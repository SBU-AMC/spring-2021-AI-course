{
 "cells": [
  {
   "cell_type": "markdown",
   "metadata": {},
   "source": [
    "# Vectorization\n",
    "Most of the data available will eventually result in vectors.\n",
    "\n",
    "In short, we will write the vector operations in a faster way (much faster than looping through them).\n",
    "Some programming languages already support this concept (another term is \"array programming\"), but in Python, Numpy library does the job.\n",
    "\n",
    "This example tries to sum over array A and B while putting the result back into array A. Here is how a normal, iterative solution would look like in languages like C or Pascal: (The code is written in C)"
   ]
  },
  {
   "cell_type": "code",
   "execution_count": null,
   "metadata": {},
   "outputs": [],
   "source": [
    "for (int i = 0; i < n; i++)\n",
    "    A[i] = A[i] + B[i]"
   ]
  },
  {
   "cell_type": "markdown",
   "metadata": {},
   "source": [
    "While the vectorized form look like this:"
   ]
  },
  {
   "cell_type": "code",
   "execution_count": null,
   "metadata": {},
   "outputs": [],
   "source": [
    "A = A + B"
   ]
  },
  {
   "cell_type": "markdown",
   "metadata": {},
   "source": [
    "Now, let's compare how much speedup we gain using this technique."
   ]
  },
  {
   "cell_type": "code",
   "execution_count": 1,
   "metadata": {
    "ExecuteTime": {
     "end_time": "2021-04-14T21:35:35.153270Z",
     "start_time": "2021-04-14T21:35:35.032311Z"
    }
   },
   "outputs": [],
   "source": [
    "import numpy as np  # import the numpy package\n",
    "import random  # to generate random numbers"
   ]
  },
  {
   "cell_type": "code",
   "execution_count": 2,
   "metadata": {
    "ExecuteTime": {
     "end_time": "2021-04-14T21:35:43.449881Z",
     "start_time": "2021-04-14T21:35:36.792067Z"
    }
   },
   "outputs": [
    {
     "name": "stdout",
     "output_type": "stream",
     "text": [
      "67.8 ms ± 622 µs per loop (mean ± std. dev. of 7 runs, 10 loops each)\n"
     ]
    }
   ],
   "source": [
    "# Scalar way\n",
    "A = [random.randint(1, 1000) for _ in range(1000000)]\n",
    "%timeit [x + 5 for x in A]"
   ]
  },
  {
   "cell_type": "code",
   "execution_count": 3,
   "metadata": {
    "ExecuteTime": {
     "end_time": "2021-04-14T21:35:46.436891Z",
     "start_time": "2021-04-14T21:35:43.454096Z"
    }
   },
   "outputs": [
    {
     "name": "stdout",
     "output_type": "stream",
     "text": [
      "2.14 ms ± 85.9 µs per loop (mean ± std. dev. of 7 runs, 100 loops each)\n"
     ]
    }
   ],
   "source": [
    "# Vectorized way\n",
    "A = np.array([random.randint(1, 1000) for _ in range(1000000)])\n",
    "%timeit A + 5"
   ]
  },
  {
   "cell_type": "markdown",
   "metadata": {},
   "source": [
    "Here the value 5 is \"broadcasted\" to the whole array. For this simple operation we have ~35x speedup. Let's try a more difficult operation, the outer product."
   ]
  },
  {
   "cell_type": "code",
   "execution_count": 4,
   "metadata": {
    "ExecuteTime": {
     "end_time": "2021-04-14T21:35:46.442972Z",
     "start_time": "2021-04-14T21:35:46.440036Z"
    }
   },
   "outputs": [],
   "source": [
    "import time"
   ]
  },
  {
   "cell_type": "code",
   "execution_count": 5,
   "metadata": {
    "ExecuteTime": {
     "end_time": "2021-04-14T21:35:46.455053Z",
     "start_time": "2021-04-14T21:35:46.446900Z"
    }
   },
   "outputs": [],
   "source": [
    "a = [random.randint(1, 1000) for _ in range(1000)]  # 1 * N\n",
    "b = [random.randint(1, 1000) for _ in range(1000)]  # 1 * N"
   ]
  },
  {
   "cell_type": "code",
   "execution_count": 6,
   "metadata": {
    "ExecuteTime": {
     "end_time": "2021-04-14T21:35:47.575492Z",
     "start_time": "2021-04-14T21:35:46.458689Z"
    }
   },
   "outputs": [
    {
     "name": "stdout",
     "output_type": "stream",
     "text": [
      "[[ 14399.   4471.  16847. ...   8160.  15606.  13158.]\n",
      " [609840. 189360. 713520. ... 345600. 660960. 557280.]\n",
      " [ 80465.  24985.  94145. ...  45600.  87210.  73530.]\n",
      " ...\n",
      " [485331. 150699. 567843. ... 275040. 526014. 443502.]\n",
      " [739431. 229599. 865143. ... 419040. 801414. 675702.]\n",
      " [464156. 144124. 543068. ... 263040. 503064. 424152.]]\n",
      "\n",
      "The elapsed time was 1110.7234954833984 ms!\n"
     ]
    }
   ],
   "source": [
    "start = time.time()\n",
    "\n",
    "# Scalar approach\n",
    "c = np.zeros((1000, 1000))  # the result dimension is a N * N\n",
    "for i in range(len(a)):\n",
    "    for j in range(len(b)):\n",
    "        c[i][j] += a[i] * b[j]\n",
    "print(c)\n",
    "    \n",
    "print(f\"\\nThe elapsed time was {1000*(time.time() - start)} ms!\")"
   ]
  },
  {
   "cell_type": "code",
   "execution_count": 7,
   "metadata": {
    "ExecuteTime": {
     "end_time": "2021-04-14T21:35:47.591051Z",
     "start_time": "2021-04-14T21:35:47.578886Z"
    }
   },
   "outputs": [
    {
     "name": "stdout",
     "output_type": "stream",
     "text": [
      "[[ 14399   4471  16847 ...   8160  15606  13158]\n",
      " [609840 189360 713520 ... 345600 660960 557280]\n",
      " [ 80465  24985  94145 ...  45600  87210  73530]\n",
      " ...\n",
      " [485331 150699 567843 ... 275040 526014 443502]\n",
      " [739431 229599 865143 ... 419040 801414 675702]\n",
      " [464156 144124 543068 ... 263040 503064 424152]]\n",
      "\n",
      "The elapsed time was 7.622718811035156 ms!\n"
     ]
    }
   ],
   "source": [
    "start = time.time()\n",
    "\n",
    "# Vectorized approach\n",
    "outer = np.outer(a, b)\n",
    "print(outer)\n",
    "    \n",
    "print(f\"\\nThe elapsed time was {1000*(time.time() - start)} ms!\")"
   ]
  },
  {
   "cell_type": "markdown",
   "metadata": {},
   "source": [
    "~300x speedup!\n",
    "\n",
    "More functions are available in numpy which will provide faster runtime. [Here](https://www.pythonlikeyoumeanit.com/Module3_IntroducingNumpy/VectorizedOperations.html) you can find some of them."
   ]
  },
  {
   "cell_type": "markdown",
   "metadata": {},
   "source": [
    "# Array Broadcasting\n",
    "Numpy tries to broadcast the lower-dimension matrix along a new dimension when performing operations on matrices with unequal shapes.  Let's look at an example:"
   ]
  },
  {
   "cell_type": "code",
   "execution_count": 8,
   "metadata": {
    "ExecuteTime": {
     "end_time": "2021-04-14T21:35:47.620947Z",
     "start_time": "2021-04-14T21:35:47.600776Z"
    }
   },
   "outputs": [
    {
     "data": {
      "text/plain": [
       "(3, 2)"
      ]
     },
     "execution_count": 8,
     "metadata": {},
     "output_type": "execute_result"
    }
   ],
   "source": [
    "a = np.array([[1, 2], [4, 5], [6, 7]])\n",
    "a.shape"
   ]
  },
  {
   "cell_type": "code",
   "execution_count": 9,
   "metadata": {
    "ExecuteTime": {
     "end_time": "2021-04-14T21:35:47.639469Z",
     "start_time": "2021-04-14T21:35:47.629798Z"
    }
   },
   "outputs": [
    {
     "data": {
      "text/plain": [
       "(1, 2)"
      ]
     },
     "execution_count": 9,
     "metadata": {},
     "output_type": "execute_result"
    }
   ],
   "source": [
    "b = np.array([[10, 10]])\n",
    "b.shape"
   ]
  },
  {
   "cell_type": "code",
   "execution_count": 10,
   "metadata": {
    "ExecuteTime": {
     "end_time": "2021-04-14T21:35:47.651247Z",
     "start_time": "2021-04-14T21:35:47.642918Z"
    }
   },
   "outputs": [
    {
     "data": {
      "text/plain": [
       "(array([[10, 20],\n",
       "        [40, 50],\n",
       "        [60, 70]]),\n",
       " (3, 2))"
      ]
     },
     "execution_count": 10,
     "metadata": {},
     "output_type": "execute_result"
    }
   ],
   "source": [
    "# Element-wise multiplication\n",
    "a * b, (a * b).shape"
   ]
  },
  {
   "cell_type": "markdown",
   "metadata": {},
   "source": [
    "Here the second matrix was treated as if it has a dimension of (3, 2). Note that Numpy does not create the duplicated matrix as it would be a waste of time and space.\n",
    "\n",
    "You can't broadcast **any** matrix you want. There are some rules to broadcasting which will be discussed later on. For example, the following operation will not be performed."
   ]
  },
  {
   "cell_type": "code",
   "execution_count": 11,
   "metadata": {
    "ExecuteTime": {
     "end_time": "2021-04-14T21:35:47.726643Z",
     "start_time": "2021-04-14T21:35:47.656745Z"
    },
    "scrolled": true
   },
   "outputs": [
    {
     "ename": "ValueError",
     "evalue": "operands could not be broadcast together with shapes (2,) (3,) ",
     "output_type": "error",
     "traceback": [
      "\u001b[0;31m---------------------------------------------------------------------------\u001b[0m",
      "\u001b[0;31mValueError\u001b[0m                                Traceback (most recent call last)",
      "\u001b[0;32m<ipython-input-11-75d0ee6d2be7>\u001b[0m in \u001b[0;36m<module>\u001b[0;34m\u001b[0m\n\u001b[0;32m----> 1\u001b[0;31m \u001b[0mnp\u001b[0m\u001b[0;34m.\u001b[0m\u001b[0marray\u001b[0m\u001b[0;34m(\u001b[0m\u001b[0;34m[\u001b[0m\u001b[0;36m1\u001b[0m\u001b[0;34m,\u001b[0m \u001b[0;36m2\u001b[0m\u001b[0;34m]\u001b[0m\u001b[0;34m)\u001b[0m \u001b[0;34m*\u001b[0m \u001b[0mnp\u001b[0m\u001b[0;34m.\u001b[0m\u001b[0marray\u001b[0m\u001b[0;34m(\u001b[0m\u001b[0;34m[\u001b[0m\u001b[0;36m0\u001b[0m\u001b[0;34m,\u001b[0m \u001b[0;36m1\u001b[0m\u001b[0;34m,\u001b[0m \u001b[0;36m2\u001b[0m\u001b[0;34m]\u001b[0m\u001b[0;34m)\u001b[0m\u001b[0;34m\u001b[0m\u001b[0;34m\u001b[0m\u001b[0m\n\u001b[0m",
      "\u001b[0;31mValueError\u001b[0m: operands could not be broadcast together with shapes (2,) (3,) "
     ]
    }
   ],
   "source": [
    "np.array([1, 2]) * np.array([0, 1, 2])"
   ]
  },
  {
   "cell_type": "markdown",
   "metadata": {},
   "source": [
    "### Broadcasting rules\n",
    "You can't broadcast arbitrary combinations of array shapes together. For instance, adding a (2, 5) matrix with a (6, 9) matrix will result in a **ValueError**.\n",
    "\n",
    "To determine whether two matrices are broadcast-compatible, Numpy starts from the rightmost dimension and moves to the right, constantly checking these two rules (one of them will suffice). If none of the rules apply for a dimension, then the broadcasting cannot be done. Note that missing dimensions are treated as if they are 1.\n",
    " \n",
    "The rules:\n",
    "1. Both dimensions are equal, or\n",
    "2. One of them is 1\n",
    "\n",
    "The resulting shape would be the equal value (when both are equal) or the maximum value (when one of them is 1) for each dimension.\n",
    "\n",
    "Here are some examples:\n",
    "1. (5, 3, 2) and (2) => (5, 3, 2)\n",
    "2. (1, 2, 4) and (2, 4) => (1, 2, 4)\n",
    "3. (6, 1, 7, 3) and (6, 1, 3) => (6, 6, 7, 3)\n",
    "4. (6, 5, 3) and (2) => not compatible!\n",
    "5. (7, 2, 3) and (3, 3) => not compatible!"
   ]
  },
  {
   "cell_type": "code",
   "execution_count": 12,
   "metadata": {
    "ExecuteTime": {
     "end_time": "2021-04-14T21:35:52.805230Z",
     "start_time": "2021-04-14T21:35:52.796957Z"
    }
   },
   "outputs": [
    {
     "data": {
      "text/plain": [
       "(6, 6, 7, 3)"
      ]
     },
     "execution_count": 12,
     "metadata": {},
     "output_type": "execute_result"
    }
   ],
   "source": [
    "a = np.zeros((6, 1, 7, 3))\n",
    "b = np.ones((6, 1, 3))\n",
    "(a * b).shape"
   ]
  },
  {
   "cell_type": "code",
   "execution_count": 13,
   "metadata": {
    "ExecuteTime": {
     "end_time": "2021-04-14T21:35:53.557411Z",
     "start_time": "2021-04-14T21:35:53.545139Z"
    }
   },
   "outputs": [
    {
     "ename": "ValueError",
     "evalue": "operands could not be broadcast together with shapes (7,2,3) (3,3) ",
     "output_type": "error",
     "traceback": [
      "\u001b[0;31m---------------------------------------------------------------------------\u001b[0m",
      "\u001b[0;31mValueError\u001b[0m                                Traceback (most recent call last)",
      "\u001b[0;32m<ipython-input-13-6caee431e3cb>\u001b[0m in \u001b[0;36m<module>\u001b[0;34m\u001b[0m\n\u001b[1;32m      1\u001b[0m \u001b[0ma\u001b[0m \u001b[0;34m=\u001b[0m \u001b[0mnp\u001b[0m\u001b[0;34m.\u001b[0m\u001b[0mzeros\u001b[0m\u001b[0;34m(\u001b[0m\u001b[0;34m(\u001b[0m\u001b[0;36m7\u001b[0m\u001b[0;34m,\u001b[0m \u001b[0;36m2\u001b[0m\u001b[0;34m,\u001b[0m \u001b[0;36m3\u001b[0m\u001b[0;34m)\u001b[0m\u001b[0;34m)\u001b[0m\u001b[0;34m\u001b[0m\u001b[0;34m\u001b[0m\u001b[0m\n\u001b[1;32m      2\u001b[0m \u001b[0mb\u001b[0m \u001b[0;34m=\u001b[0m \u001b[0mnp\u001b[0m\u001b[0;34m.\u001b[0m\u001b[0mones\u001b[0m\u001b[0;34m(\u001b[0m\u001b[0;34m(\u001b[0m\u001b[0;36m3\u001b[0m\u001b[0;34m,\u001b[0m \u001b[0;36m3\u001b[0m\u001b[0;34m)\u001b[0m\u001b[0;34m)\u001b[0m\u001b[0;34m\u001b[0m\u001b[0;34m\u001b[0m\u001b[0m\n\u001b[0;32m----> 3\u001b[0;31m \u001b[0;34m(\u001b[0m\u001b[0ma\u001b[0m \u001b[0;34m*\u001b[0m \u001b[0mb\u001b[0m\u001b[0;34m)\u001b[0m\u001b[0;34m.\u001b[0m\u001b[0mshape\u001b[0m\u001b[0;34m\u001b[0m\u001b[0;34m\u001b[0m\u001b[0m\n\u001b[0m",
      "\u001b[0;31mValueError\u001b[0m: operands could not be broadcast together with shapes (7,2,3) (3,3) "
     ]
    }
   ],
   "source": [
    "a = np.zeros((7, 2, 3))\n",
    "b = np.ones((3, 3))\n",
    "(a * b).shape"
   ]
  },
  {
   "cell_type": "code",
   "execution_count": null,
   "metadata": {},
   "outputs": [],
   "source": []
  }
 ],
 "metadata": {
  "kernelspec": {
   "display_name": "Python 3",
   "language": "python",
   "name": "python3"
  },
  "language_info": {
   "codemirror_mode": {
    "name": "ipython",
    "version": 3
   },
   "file_extension": ".py",
   "mimetype": "text/x-python",
   "name": "python",
   "nbconvert_exporter": "python",
   "pygments_lexer": "ipython3",
   "version": "3.8.5"
  }
 },
 "nbformat": 4,
 "nbformat_minor": 4
}
